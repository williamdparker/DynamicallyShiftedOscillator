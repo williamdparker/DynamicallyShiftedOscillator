{
 "cells": [
  {
   "cell_type": "markdown",
   "source": [
    "$\\frac{d^2 \\psi}{(d \\xi)^2} + \\left[ 2 \\epsilon - (\\xi \\pm \\xi_0)^2 \\right] \\psi = 0$"
   ],
   "metadata": {
    "collapsed": false,
    "pycharm": {
     "name": "#%% md\n"
    }
   }
  },
  {
   "cell_type": "markdown",
   "source": [
    "$\\psi'' + 2 \\epsilon \\psi - \\xi^2 \\psi \\mp 2 \\xi \\xi_0 \\psi - \\xi_0^2 \\psi = 0 $"
   ],
   "metadata": {
    "collapsed": false,
    "pycharm": {
     "name": "#%% md\n"
    }
   }
  },
  {
   "cell_type": "markdown",
   "source": [
    "$\\begin{array}{l}\n",
    "\\psi(\\xi) = \\sum_{n=0}^{\\infty} a_n \\xi^n \\\\\n",
    "\\psi'(\\xi) = \\sum_{n=1}^{\\infty} a_n n \\xi^{n-1} \\\\\n",
    "\\psi''(\\xi) = \\sum_{n=2}^{\\infty} a_n n (n -1) \\xi^{n-2} \\\\\n",
    "\\end{array}$\n"
   ],
   "metadata": {
    "collapsed": false,
    "pycharm": {
     "name": "#%% md\n"
    }
   }
  },
  {
   "cell_type": "markdown",
   "source": [
    "$\\sum_{n=2}^{\\infty} a_n n (n-1) \\xi^{n-2}\n",
    "+ 2 \\epsilon \\sum_{n=0}^{\\infty} a_n \\xi^n\n",
    "- \\sum_{n=0}^{\\infty} a_n \\xi^{n+2}\n",
    "\\mp 2 \\xi_0 \\sum_{n=0}^{\\infty} a_n \\xi^{n+1}\n",
    "- \\xi_0^2 \\sum_{n=0}^{\\infty} a_n \\xi^n\n",
    "= 0$"
   ],
   "metadata": {
    "collapsed": false,
    "pycharm": {
     "name": "#%% md\n"
    }
   }
  },
  {
   "cell_type": "markdown",
   "source": [
    "$\\begin{array}{l}\n",
    "(a_2 2 (2-1) \\xi^{2-2} + a_3 3 (3-1) \\xi^{3-2} + \\dots)\\\\\n",
    "+ 2 \\epsilon (a_0 \\xi^0 + a_1 \\xi^1 + a_2 \\xi^2 + a_3 \\xi^3 + \\dots) \\\\\n",
    "- (a_0 \\xi^{0+2} + a_1 \\xi^{1+2} + a_2 \\xi^{2+2} + a_3 \\xi^{3+2} + \\dots) \\\\\n",
    "\\mp 2 \\xi_0 (a_0 \\xi^{0+1} + a_1 \\xi^{1+1} + a_2 \\xi^{2+1} + a_3 \\xi^{3+1} + \\dots) \\\\\n",
    "- \\xi_0^2 (a_0 \\xi^0 + a_1 \\xi^1 + a_2 \\xi^2 + a_3 \\xi^3 + \\dots) \\\\\n",
    "= 0 \\\\\n",
    "\\end{array}$"
   ],
   "metadata": {
    "collapsed": false,
    "pycharm": {
     "name": "#%% md\n"
    }
   }
  },
  {
   "cell_type": "markdown",
   "source": [
    "$\\begin{array}{l}\n",
    "(a_2 (2) (1) + 2 \\epsilon a_0 - \\xi_0^2 a_0) \\xi^0  \\\\\n",
    "(a_3 (3) (2) + 2 \\epsilon a_1 \\mp 2 \\xi_0 a_0  - \\xi_0^2 a_1) \\xi^1 \\\\\n",
    "+ \\dots  = 0 \\\\\n",
    "\\end{array}$"
   ],
   "metadata": {
    "collapsed": false,
    "pycharm": {
     "name": "#%% md\n"
    }
   }
  },
  {
   "cell_type": "markdown",
   "source": [
    "$\\begin{array}{l}\n",
    "a_2 = \\frac{\\xi_0^2 - 2 \\epsilon}{2}a_0 \\\\\n",
    "\\lambda \\equiv \\epsilon - \\frac{\\xi_0^2}{2} \\\\\n",
    "\\Rightarrow a_2 = - \\lambda a_0 \\\\\n",
    "\\end{array}$"
   ],
   "metadata": {
    "collapsed": false,
    "pycharm": {
     "name": "#%% md\n"
    }
   }
  },
  {
   "cell_type": "markdown",
   "source": [
    "$\\begin{array}{ll}\n",
    "a_3 &= \\frac{\\xi_0^2 - 2\\epsilon}{6} a_1 \\pm \\frac{\\xi_0}{3} a_0 \\\\\n",
    "    &= - \\frac{1}{3} \\left( \\lambda a_1 \\mp \\xi_0 a_0 \\right) \\\\\n",
    "\\end{array}$"
   ],
   "metadata": {
    "collapsed": false,
    "pycharm": {
     "name": "#%% md\n"
    }
   }
  },
  {
   "cell_type": "markdown",
   "source": [
    "$\\sum_{n=2}^{\\infty} \\left(\n",
    "a_{n+2}(n+2)(n+1)\n",
    "+ 2 \\epsilon a_n\n",
    "- a_{n-2}\n",
    "\\mp 2 \\xi_0 a_{n-1}\n",
    "- \\xi_0^2 a_n\n",
    "\\right) \\xi^n= 0$"
   ],
   "metadata": {
    "collapsed": false,
    "pycharm": {
     "name": "#%% md\n"
    }
   }
  },
  {
   "cell_type": "markdown",
   "source": [
    "$ a_{n+2} = \\frac{(\\xi_0^2 - 2 \\epsilon)a_n \\pm 2 \\xi_0 a_{n-1}  + a_{n-2}}{(n+2)(n+1)}\n",
    "          = \\frac{-2 \\lambda a_n \\pm 2 \\xi_0 a_{n-1} + a_{n-2}}{(n+2)(n+1)}$ for $n \\geq 2$"
   ],
   "metadata": {
    "collapsed": false,
    "pycharm": {
     "name": "#%% md\n"
    }
   }
  },
  {
   "cell_type": "code",
   "execution_count": null,
   "outputs": [],
   "source": [],
   "metadata": {
    "collapsed": false,
    "pycharm": {
     "name": "#%%\n"
    }
   }
  }
 ],
 "metadata": {
  "kernelspec": {
   "display_name": "Python 3",
   "language": "python",
   "name": "python3"
  },
  "language_info": {
   "codemirror_mode": {
    "name": "ipython",
    "version": 2
   },
   "file_extension": ".py",
   "mimetype": "text/x-python",
   "name": "python",
   "nbconvert_exporter": "python",
   "pygments_lexer": "ipython2",
   "version": "2.7.6"
  }
 },
 "nbformat": 4,
 "nbformat_minor": 0
}