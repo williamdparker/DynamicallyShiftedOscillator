{
 "cells": [
  {
   "cell_type": "markdown",
   "metadata": {
    "pycharm": {
     "name": "#%% md\n"
    }
   },
   "source": [
    "# Dynamically-Shifted Oscillator Potential\n",
    "\n",
    "$V(x) =\n",
    "\\begin{array}{ll}\n",
    "\\frac{1}{2} k (x - x_0)^2, &x \\geq 0 \\\\\n",
    "\\frac{1}{2} k (x + x_0)^2, &x < 0 \\\\\n",
    "\\end{array}\n",
    "$"
   ]
  },
  {
   "cell_type": "markdown",
   "metadata": {
    "pycharm": {
     "name": "#%% md\n"
    }
   },
   "source": [
    "# Time-independent Schrödinger Equation\n",
    "\n",
    "$\n",
    "\\begin{array}{ll}\n",
    "& -\\frac{\\hbar^2}{2 m} \\frac{d^2 \\psi}{(d x)^2} + V(x) \\psi = E \\psi \\\\\n",
    "& \\frac{d^2 \\psi}{(d x)^2} = \\frac{2 m}{\\hbar^2} \\left( V(x) - E \\right)\\psi \\\\\n",
    "\\end{array}\n",
    "$\n",
    "\n"
   ]
  },
  {
   "cell_type": "markdown",
   "metadata": {
    "pycharm": {
     "name": "#%% md\n"
    }
   },
   "source": [
    "$\n",
    "\\begin{array}{ll}\n",
    "& \\frac{d^2 \\psi}{(d x)^2} = \\left( \\frac{m k}{\\hbar^2} (x \\pm x_0)^2 - \\frac{2 m E}{\\hbar^2} \\right)\\psi \\\\\n",
    "\\end{array}\n",
    "$"
   ]
  },
  {
   "cell_type": "markdown",
   "metadata": {
    "pycharm": {
     "name": "#%% md\n"
    }
   },
   "source": [
    "$\\omega^2 = \\frac{k}{m} \\Rightarrow m k = m^2 \\omega^2$"
   ]
  },
  {
   "cell_type": "markdown",
   "metadata": {
    "pycharm": {
     "name": "#%% md\n"
    }
   },
   "source": [
    "$\n",
    "\\begin{array}{ll}\n",
    "& \\frac{d^2 \\psi}{(d x)^2} = \\left( \\frac{m^2 \\omega^2}{\\hbar^2} (x \\pm x_0)^2 - \\frac{2 m E}{\\hbar^2} \\right)\\psi \\\\\n",
    "\\end{array}\n",
    "$"
   ]
  },
  {
   "cell_type": "markdown",
   "metadata": {
    "pycharm": {
     "name": "#%% md\n"
    }
   },
   "source": [
    "$ \\xi \\equiv \\sqrt{\\frac{m \\omega}{\\hbar}}x , \\,\\, \\xi_0 \\equiv \\sqrt{\\frac{m \\omega}{\\hbar}}{x_0},\\dim(\\xi) = \\left( \\textrm{M T}^{-1} \\left(\\textrm{M L}^2 \\textrm{T}^{-1}\\right)^{-1}\\right)^{-1/2} \\textrm{L} = 1$"
   ]
  },
  {
   "cell_type": "markdown",
   "metadata": {
    "pycharm": {
     "name": "#%% md\n"
    }
   },
   "source": [
    "$ \\frac{d\\psi}{dx} = \\frac{d \\xi}{d x} \\frac{d\\psi}{d \\xi}, \\,\\, \\frac{d^2\\psi}{(dx)^2} = \\left(\\frac{d \\xi}{d x}\\right)^2 \\frac{d^2\\psi}{(d \\xi)^2} = \\left(\\frac{m \\omega}{\\hbar}\\right) \\frac{d^2\\psi}{(d \\xi)^2}$"
   ]
  },
  {
   "cell_type": "markdown",
   "metadata": {
    "pycharm": {
     "name": "#%% md\n"
    }
   },
   "source": [
    "$\n",
    "\\begin{array}{ll}\n",
    "& \\left(\\frac{m \\omega}{\\hbar} \\right)\\frac{d^2 \\psi}{(d \\xi)^2} = \\left( \\frac{m \\omega}{\\hbar} (\\xi \\pm \\xi_0)^2 - \\frac{2 m E}{\\hbar^2} \\right)\\psi \\\\\n",
    "\\end{array}\n",
    "$"
   ]
  },
  {
   "cell_type": "markdown",
   "metadata": {
    "pycharm": {
     "name": "#%% md\n"
    }
   },
   "source": [
    "$\n",
    "\\begin{array}{ll}\n",
    "& \\frac{d^2 \\psi}{(d \\xi)^2} = \\left( (\\xi \\pm \\xi_0)^2 - \\frac{2 E}{\\hbar \\omega} \\right)\\psi \\\\\n",
    "\\end{array}\n",
    "$"
   ]
  },
  {
   "cell_type": "markdown",
   "metadata": {
    "pycharm": {
     "name": "#%% md\n"
    }
   },
   "source": [
    "$\\dim \\left( \\frac{E}{\\hbar \\omega} \\right) = \\mathrm{M L}^2 \\mathrm{T}^{-2} \\left(\\textrm{M L}^2 \\textrm{T}^{-1} \\textrm{T}^{-1}\\right)^{-1} = 1$\n",
    "\n"
   ]
  },
  {
   "cell_type": "markdown",
   "metadata": {
    "pycharm": {
     "name": "#%% md\n"
    }
   },
   "source": [
    "$\\epsilon \\equiv \\frac{E}{\\hbar \\omega}$"
   ]
  },
  {
   "cell_type": "markdown",
   "metadata": {
    "pycharm": {
     "name": "#%% md\n"
    }
   },
   "source": [
    "$u_\\pm \\equiv \\xi \\pm \\xi_0\n",
    "\\Rightarrow \\frac{d\\psi}{du_\\pm} = \\frac{d\\psi}{d\\xi}\\frac{d\\xi}{du_\\pm}\n",
    "\\Rightarrow \\frac{d^2\\psi}{(du_\\pm)^2} = \\frac{d^2\\psi}{(d\\xi)^2}\n",
    "$"
   ]
  },
  {
   "cell_type": "markdown",
   "metadata": {
    "pycharm": {
     "name": "#%% md\n"
    }
   },
   "source": [
    "$\n",
    "\\begin{array}{ll}\n",
    "& \\frac{d^2 \\psi}{(d u_\\pm)^2} = \\left( u_\\pm^2 - 2\\epsilon \\right)\\psi \\\\\n",
    "\\end{array}\n",
    "$"
   ]
  },
  {
   "cell_type": "markdown",
   "metadata": {
    "pycharm": {
     "name": "#%% md\n"
    }
   },
   "source": [
    "$\n",
    "\\begin{array}{ll}\n",
    "\\psi(u_\\pm)                &= e^{-\\frac{u_\\pm^2}{2}} f(u_\\pm) \\\\\n",
    "\\frac{d\\psi}{d\\u_\\pm}       &= -u_\\pm e^{-\\frac{u_\\pm^2}{2}} f(u_\\pm) + e^{-\\frac{u_\\pm^2}{2}} \\frac{df}{du_\\pm} \\\\\n",
    "\\frac{d^2\\psi}{(du_\\pm)^2} &= -e^{-\\frac{u_\\pm^2}{2}} f(u_\\pm) + u_\\pm^2  e^{-\\frac{u_\\pm^2}{2}} f(u_\\pm) + -u_\\pm e^{-\\frac{u_\\pm^2}{2}} \\frac{df}{du_\\pm}\n",
    "                            -u_\\pm e^{-\\frac{u_\\pm^2}{2}} \\frac{df}{du_\\pm} + e^{-\\frac{u_\\pm^2}{2}} \\frac{d^2f}{(du_\\pm)^2} \\\\\n",
    "                         &= e^{-\\frac{u_\\pm^2}{2}} \\left( (-1 + u_\\pm^2) f(u_\\pm) - 2 u_\\pm \\frac{df}{du_\\pm} + \\frac{d^2f}{(du_\\pm)^2} \\right) \\\\\n",
    "\\end{array}\n",
    "$\n"
   ]
  },
  {
   "cell_type": "markdown",
   "metadata": {
    "pycharm": {
     "name": "#%% md\n"
    }
   },
   "source": [
    "$\n",
    "\\begin{array}{ll}\n",
    "e^{-\\frac{u_\\pm^2}{2}}\n",
    "\\left( (-1 + u_\\pm^2) f(u_\\pm) - 2 u_\\pm \\frac{df}{du_\\pm} + \\frac{d^2f}{(du_\\pm)^2} \\right)\n",
    "\n",
    " &= \\left( u_\\pm^2 - 2 \\epsilon \\right) e^{ -\\frac{u_\\pm^2}{2} } f(u_\\pm) \\\\\n",
    "\\frac{d^2f}{(du_\\pm)^2} - 2 u_\\pm \\frac{df}{du_\\pm} + (2\\epsilon - 1) f(u_\\pm) &= 0 \\\\\n",
    "\\end{array}\n",
    "$"
   ]
  },
  {
   "cell_type": "markdown",
   "metadata": {
    "pycharm": {
     "name": "#%% md\n"
    }
   },
   "source": [
    "$\n",
    "\\begin{array}{ll}\n",
    "f(u_\\pm) &= \\sum_{j=0}^{\\infty} a^{\\pm}_j u_\\pm^j \\\\\n",
    "\\frac{df}{du_\\pm} &= \\sum_{j=0}^{\\infty} a^{\\pm}_j j u_\\pm^{j-1} \\\\\n",
    "\\frac{d^2f}{(du_\\pm)^2} &= \\sum_{j=0}^{\\infty} a^{\\pm}_j j(j-1) u_\\pm^{j-2}\n",
    " = \\sum_{j=0}^{\\infty} a^{\\pm}_{j+2} (j+2)(j+1) u_\\pm^j\n",
    "\\\\\n",
    "\\end{array}\n",
    "$"
   ]
  },
  {
   "cell_type": "markdown",
   "metadata": {
    "pycharm": {
     "name": "#%% md\n"
    }
   },
   "source": [
    "$\n",
    "\\begin{array}{ll}\n",
    "\\sum_{j=0}^{\\infty} a^{\\pm}_{j+2} (j+2)(j+1) u_\\pm^j - 2 u_\\pm \\sum_{j=0}^{\\infty} a^{\\pm}_j j u_\\pm^{j-1} + (2\\epsilon - 1) \\sum_{j=0}^{\\infty} a^{\\pm}_j u_\\pm^j &= 0 \\\\\n",
    "\\Rightarrow \\sum_{j=0}^{\\infty} \\left[ a^{\\pm}_{j+2} (j+2)(j+1) - 2 a^{\\pm}_j j + (2\\epsilon - 1) a^{\\pm}_j \\right] u_\\pm^j  &= 0 \\\\\n",
    "\\Rightarrow a^{\\pm}_{j+2} (j+2)(j+1) - 2 a^{\\pm}_j j + (2\\epsilon - 1) a^{\\pm}_j &= 0 \\\\\n",
    "\\Rightarrow a^{\\pm}_{j+2} &= \\frac{2 j - (2\\epsilon - 1)}{(j+2)(j+1)}a^{\\pm}_j \\\\\n",
    "\\end{array}\n",
    "$"
   ]
  },
  {
   "cell_type": "markdown",
   "metadata": {
    "pycharm": {
     "name": "#%% md\n"
    }
   },
   "source": [
    "$\\Rightarrow 2j - (2\\epsilon - 1) = 0 \\Rightarrow \\epsilon = j + \\frac{1}{2}$"
   ]
  },
  {
   "cell_type": "code",
   "execution_count": null,
   "metadata": {
    "pycharm": {
     "name": "#%%\n"
    }
   },
   "outputs": [],
   "source": []
  }
 ],
 "metadata": {
  "kernelspec": {
   "display_name": "Python 3",
   "language": "python",
   "name": "python3"
  },
  "language_info": {
   "codemirror_mode": {
    "name": "ipython",
    "version": 3
   },
   "file_extension": ".py",
   "mimetype": "text/x-python",
   "name": "python",
   "nbconvert_exporter": "python",
   "pygments_lexer": "ipython3",
   "version": "3.6.6+"
  }
 },
 "nbformat": 4,
 "nbformat_minor": 1
}